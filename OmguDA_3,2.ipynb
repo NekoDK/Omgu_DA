{
  "nbformat": 4,
  "nbformat_minor": 0,
  "metadata": {
    "colab": {
      "provenance": [],
      "authorship_tag": "ABX9TyOotK5d95/hpNVcQbtpK6TS",
      "include_colab_link": true
    },
    "kernelspec": {
      "name": "python3",
      "display_name": "Python 3"
    },
    "language_info": {
      "name": "python"
    }
  },
  "cells": [
    {
      "cell_type": "markdown",
      "metadata": {
        "id": "view-in-github",
        "colab_type": "text"
      },
      "source": [
        "<a href=\"https://colab.research.google.com/github/NekoDK/Omgu_DA/blob/OmguDA_3/OmguDA_3%2C2.ipynb\" target=\"_parent\"><img src=\"https://colab.research.google.com/assets/colab-badge.svg\" alt=\"Open In Colab\"/></a>"
      ]
    },
    {
      "cell_type": "code",
      "source": [
        "import numpy as np\n",
        "import pandas as pd\n",
        "from sklearn.model_selection import train_test_split\n",
        "from sklearn.metrics import mean_squared_error\n",
        "from sklearn.linear_model import LinearRegression\n"
      ],
      "metadata": {
        "id": "8FaZq9CedM8C"
      },
      "execution_count": 2,
      "outputs": []
    },
    {
      "cell_type": "code",
      "source": [
        "df = pd.read_excel(\"SrEd.xlsx\")"
      ],
      "metadata": {
        "id": "I4IoYV18dOqn"
      },
      "execution_count": 3,
      "outputs": []
    },
    {
      "cell_type": "code",
      "source": [
        "edu_dummies = pd.get_dummies(df['Edu'], prefix='is')\n",
        "df = pd.concat([df, edu_dummies], axis=1)\n",
        "df.drop('Edu', axis=1, inplace=True)\n",
        "df.drop('id', axis=1, inplace=True)"
      ],
      "metadata": {
        "id": "xL9ZhHIYdPpj"
      },
      "execution_count": 4,
      "outputs": []
    },
    {
      "cell_type": "code",
      "source": [
        "df_female = df[df['Sex'] != 'м'].copy()\n",
        "df_male = df[df['Sex'] == 'м'].copy()\n",
        "\n",
        "df_female.drop('Sex', axis=1, inplace=True)\n",
        "df_male.drop('Sex', axis=1, inplace=True)"
      ],
      "metadata": {
        "id": "swBbn9g3dSau"
      },
      "execution_count": 5,
      "outputs": []
    },
    {
      "cell_type": "code",
      "source": [
        "# Обучение модели для мужчин\n",
        "X_male = df_male.drop('Srok', axis=1)\n",
        "y_male = df_male['Srok'].values\n",
        "\n",
        "model_male = LinearRegression()\n",
        "model_male.fit(X_male, y_male)\n",
        "\n",
        "y_pred_male = model_male.predict(X_male)\n",
        "mse_male = mean_squared_error(y_male, y_pred_male)\n",
        "print(\"Среднеквадратическая ошибка (М):\", mse_male)"
      ],
      "metadata": {
        "colab": {
          "base_uri": "https://localhost:8080/"
        },
        "id": "W_lbeysEdZL2",
        "outputId": "cb72d9fe-3389-408a-83c0-be3283104862"
      },
      "execution_count": 7,
      "outputs": [
        {
          "output_type": "stream",
          "name": "stdout",
          "text": [
            "Среднеквадратическая ошибка (М): 7.8832004334692005\n"
          ]
        }
      ]
    },
    {
      "cell_type": "code",
      "source": [
        "# Обучение модели для женщин\n",
        "X_female = df_female.drop('Srok', axis=1)\n",
        "y_female = df_female['Srok'].values\n",
        "\n",
        "model_female = LinearRegression()\n",
        "model_female.fit(X_female, y_female)\n",
        "\n",
        "y_pred_female = model_female.predict(X_female)\n",
        "mse_female = mean_squared_error(y_female, y_pred_female)\n",
        "print(\"Среднеквадратическая ошибка (Ж):\", mse_female)"
      ],
      "metadata": {
        "colab": {
          "base_uri": "https://localhost:8080/"
        },
        "id": "pfll5xp-dc-j",
        "outputId": "d3c9f18a-0451-4238-ab8e-cad8705ab793"
      },
      "execution_count": 8,
      "outputs": [
        {
          "output_type": "stream",
          "name": "stdout",
          "text": [
            "Среднеквадратическая ошибка (Ж): 1.3803392180038194\n"
          ]
        }
      ]
    },
    {
      "cell_type": "code",
      "source": [
        "# Обучение модели для всех данных\n",
        "df.drop('Sex', axis=1, inplace=True)\n",
        "\n",
        "X_all = df.drop('Srok', axis=1)\n",
        "y_all = df['Srok'].values\n",
        "\n",
        "model_all = LinearRegression()\n",
        "model_all.fit(X_all, y_all)\n",
        "\n",
        "y_pred_all = model_all.predict(X_all)\n",
        "mse_all = mean_squared_error(y_all, y_pred_all)\n",
        "print(\"Среднеквадратическая ошибка (Общая):\", mse_all)\n"
      ],
      "metadata": {
        "colab": {
          "base_uri": "https://localhost:8080/"
        },
        "id": "bL6MXoZZdedV",
        "outputId": "0e26ba50-431c-4c1d-998c-2d24b75c7967"
      },
      "execution_count": 9,
      "outputs": [
        {
          "output_type": "stream",
          "name": "stdout",
          "text": [
            "Среднеквадратическая ошибка (Общая): 6.3673835986977965\n"
          ]
        }
      ]
    },
    {
      "cell_type": "code",
      "source": [
        "def sum_of_squares(y_true, y_pred):\n",
        "    return np.sum((y_true - y_pred) ** 2)"
      ],
      "metadata": {
        "id": "VVc7k3lddny9"
      },
      "execution_count": 10,
      "outputs": []
    },
    {
      "cell_type": "code",
      "source": [
        "# Вычисление RSS\n",
        "rss_male = sum_of_squares(y_male, y_pred_male)\n",
        "rss_female = sum_of_squares(y_female, y_pred_female)\n",
        "rss_all = sum_of_squares(y_all, y_pred_all)\n",
        "\n",
        "k = X_male.shape[1]\n",
        "n_male = X_male.shape[0]\n",
        "n_female = X_female.shape[0]\n",
        "n_all = X_all.shape[0]"
      ],
      "metadata": {
        "id": "Z5_H7Aildo7r"
      },
      "execution_count": 11,
      "outputs": []
    },
    {
      "cell_type": "code",
      "source": [
        "# Критерий Чоу\n",
        "f_stat = ((rss_all - (rss_male + rss_female)) / k) / ((rss_male + rss_female) / (n_male + n_female - 2 * k))\n",
        "print(\"Критерий Чоу:\", f_stat)"
      ],
      "metadata": {
        "colab": {
          "base_uri": "https://localhost:8080/"
        },
        "id": "DgsO1KvsdqWM",
        "outputId": "042822b4-5eb8-4b8f-da48-0e7a5250622c"
      },
      "execution_count": 12,
      "outputs": [
        {
          "output_type": "stream",
          "name": "stdout",
          "text": [
            "Критерий Чоу: 0.4024602020577145\n"
          ]
        }
      ]
    },
    {
      "cell_type": "code",
      "source": [
        "# Критическое значение F-распределения\n",
        "from scipy.stats import f\n",
        "\n",
        "alpha = 0.05\n",
        "df1 = k\n",
        "df2 = n_male + n_female - 2 * k\n",
        "\n",
        "f_critical = f.ppf(1 - alpha, df1, df2)\n",
        "print(f\"Critical F-value: {f_critical}\")"
      ],
      "metadata": {
        "colab": {
          "base_uri": "https://localhost:8080/"
        },
        "id": "PB8ZULobd5--",
        "outputId": "a5f5fc11-d120-481f-876b-d7755e278a88"
      },
      "execution_count": 13,
      "outputs": [
        {
          "output_type": "stream",
          "name": "stdout",
          "text": [
            "Critical F-value: 2.4494664263887103\n"
          ]
        }
      ]
    },
    {
      "cell_type": "code",
      "source": [
        "if f_stat > f_critical:\n",
        "    print(\" Существует структурный разрыв.\")\n",
        "else:\n",
        "    print(\" Структурного разрыва нет.\")"
      ],
      "metadata": {
        "colab": {
          "base_uri": "https://localhost:8080/"
        },
        "id": "w4dRnlKjnYZ1",
        "outputId": "52bd1c48-89cc-4967-ebf9-7867b46763d6"
      },
      "execution_count": 14,
      "outputs": [
        {
          "output_type": "stream",
          "name": "stdout",
          "text": [
            " Структурного разрыва нет.\n"
          ]
        }
      ]
    }
  ]
}