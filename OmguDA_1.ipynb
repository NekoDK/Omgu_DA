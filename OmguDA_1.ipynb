{
  "nbformat": 4,
  "nbformat_minor": 0,
  "metadata": {
    "colab": {
      "provenance": [],
      "authorship_tag": "ABX9TyNpBJv4t1TQoSufXNxTUqZA",
      "include_colab_link": true
    },
    "kernelspec": {
      "name": "python3",
      "display_name": "Python 3"
    },
    "language_info": {
      "name": "python"
    }
  },
  "cells": [
    {
      "cell_type": "markdown",
      "metadata": {
        "id": "view-in-github",
        "colab_type": "text"
      },
      "source": [
        "<a href=\"https://colab.research.google.com/github/NekoDK/Omgu_DA/blob/OmguDA_1/OmguDA_1.ipynb\" target=\"_parent\"><img src=\"https://colab.research.google.com/assets/colab-badge.svg\" alt=\"Open In Colab\"/></a>"
      ]
    },
    {
      "cell_type": "code",
      "execution_count": null,
      "metadata": {
        "id": "VBbsRcppE5uP"
      },
      "outputs": [],
      "source": [
        "import pandas as pd\n",
        "import numpy as np"
      ]
    },
    {
      "cell_type": "code",
      "source": [
        "df = pd.read_excel('russiaxlsx.xlsx')"
      ],
      "metadata": {
        "id": "FYQ303vRHfYM"
      },
      "execution_count": null,
      "outputs": []
    },
    {
      "cell_type": "code",
      "source": [
        "df.head()"
      ],
      "metadata": {
        "id": "QCPyxDfwHu-f"
      },
      "execution_count": null,
      "outputs": []
    },
    {
      "cell_type": "markdown",
      "source": [
        "A = Число избирателей, внесенных в список избирателей на момент окончания голосования\n",
        "\n",
        "B = Число избирательных бюллетеней, полученных участковой избирательной комиссией\n",
        "\n",
        "C = Число избирательных бюллетеней, выданных избирателям, проголосовавшим досрочно\n",
        "\n",
        "D = Число избирательных бюллетеней, выданных в помещении для голосования в день голосования\n",
        "\n",
        "E = пустой\n",
        "\n",
        "F = Число погашенных избирательных бюллетеней\n",
        "\n",
        "G = Число избирательных бюллетеней, содержащихся в переносных ящиках для голосования\n",
        "\n",
        "H = Число избирательных бюллетеней, содержащихся в стационарных ящиках для голосования\n",
        "\n",
        "I = Число недействительных избирательных бюллетеней\n",
        "\n",
        "J = Число действительных избирательных бюллетеней\n",
        "\n",
        "K = Число утраченных избирательных бюллетеней\n",
        "\n",
        "L = Число избирательных бюллетеней, не учтенных при получении"
      ],
      "metadata": {
        "id": "tOWfM0RrIB4u"
      }
    },
    {
      "cell_type": "code",
      "source": [
        "print(\"_______Gen_Old_______\")\n",
        "print(df['A'].std())\n",
        "print(df['A'].mean())"
      ],
      "metadata": {
        "colab": {
          "base_uri": "https://localhost:8080/"
        },
        "id": "Eb7LMvTFIDPd",
        "outputId": "62b34ee4-a442-4713-b8e4-5f2dbd084244"
      },
      "execution_count": null,
      "outputs": [
        {
          "output_type": "stream",
          "name": "stdout",
          "text": [
            "_______Gen_Old_______\n",
            "1914.2176931446295\n",
            "1133.7104801453413\n"
          ]
        }
      ]
    },
    {
      "cell_type": "code",
      "source": [
        "step = 200\n",
        "start = 94\n",
        "genErr = 3 * df['A'].std()\n",
        "\n",
        "df = df[df['A'] < genErr]\n",
        "\n",
        "rd = df.sample(500, replace=False)\n",
        "\n",
        "sf = df.iloc[start::step]"
      ],
      "metadata": {
        "id": "aOfr60fWJUQT"
      },
      "execution_count": null,
      "outputs": []
    },
    {
      "cell_type": "code",
      "source": [
        "def assign_value(row):\n",
        "    if row['A'] >= 500000:\n",
        "        return 1\n",
        "    elif 100000 <= row['A'] < 500000:\n",
        "        return 2\n",
        "    elif 50000 <= row['A'] < 100000:\n",
        "        return 3\n",
        "    elif 25000 <= row['A'] < 50000:\n",
        "        return 4\n",
        "    elif 5000 <= row['A'] < 25000:\n",
        "        return 5\n",
        "    elif 1000 <= row['A'] < 5000:\n",
        "        return 6\n",
        "    elif 600 <= row['A'] < 1000:\n",
        "        return 7\n",
        "    elif row['A'] < 600:\n",
        "        return 8\n",
        "    else:\n",
        "        return None"
      ],
      "metadata": {
        "id": "MZgz0G-_HZSW"
      },
      "execution_count": null,
      "outputs": []
    },
    {
      "cell_type": "code",
      "source": [
        "df_city = df[df['tik'].str.contains(',')].copy()\n",
        "df_city.loc['tik'] = df_city['tik'].str.split(',').str[0]\n",
        "df_city.loc[\"tik\"] = df_city[\"reg\"]+\" \" +df_city[\"tik\"]\n",
        "df_city_big = df_city.copy()\n",
        "df_city = df_city.groupby('tik').sum().reset_index()\n",
        "df_country = df[~df['tik'].str.contains(',')].copy()\n",
        "df_country.loc[\"tik\"] = df_country[\"reg\"]+\" \" + df_country[\"tik\"]\n",
        "\n",
        "df_city['our_group'] = df_city.apply(assign_value, axis=1)\n",
        "df_country['our_group'] = df_country.apply(assign_value, axis=1)\n",
        "df_city_big = df_city_big.merge(df_city[['tik', 'our_group']], on='tik', how='left')\n",
        "df_city_big[df_city_big['tik'] == 'Московская область Москва']\n",
        "df_all = pd.concat([df_city_big,df_country],axis = 0)"
      ],
      "metadata": {
        "id": "vejU2rbiJ4N2"
      },
      "execution_count": null,
      "outputs": []
    },
    {
      "cell_type": "code",
      "source": [
        "df_new = df_all[df_all['our_group'] == 1]\n",
        "sample_size = int(0.20 * len(df_new))\n",
        "df_new = df_new.sample(n=sample_size)"
      ],
      "metadata": {
        "id": "XIVs9CuZJ8DY"
      },
      "execution_count": null,
      "outputs": []
    },
    {
      "cell_type": "code",
      "source": [
        "for i in range(2, 9):\n",
        "  filtered_df = df_all[df_all['our_group'] == i]\n",
        "  sample_size = int(0.20 * len(filtered_df))\n",
        "  sampled_df = filtered_df.sample(n=sample_size)\n",
        "  df_new = pd.concat([df_new,sampled_df],axis = 0)"
      ],
      "metadata": {
        "id": "luY_XC40J_0k"
      },
      "execution_count": null,
      "outputs": []
    },
    {
      "cell_type": "code",
      "source": [
        "print(\"_______Gen_______\")\n",
        "print(df['A'].std())\n",
        "print(df['A'].mean())\n",
        "print(\"-----Rand----------\")\n",
        "print(rd['A'].std())\n",
        "print(rd['A'].mean())\n",
        "print(\"-----Step----------\")\n",
        "print(sf['A'].std())\n",
        "print(sf['A'].mean())\n",
        "print((\"----Typezed-------\"))\n",
        "print(df_new['A'].std())\n",
        "print(df_new['A'].mean())"
      ],
      "metadata": {
        "colab": {
          "base_uri": "https://localhost:8080/"
        },
        "id": "E2di4h0cKEjC",
        "outputId": "da97939c-8bf7-4796-d680-e477f766c1eb"
      },
      "execution_count": null,
      "outputs": [
        {
          "output_type": "stream",
          "name": "stdout",
          "text": [
            "_______Gen_______\n",
            "794.1688866206755\n",
            "1106.441364627687\n",
            "-----Rand----------\n",
            "790.4816250229972\n",
            "1144.33\n",
            "-----Step----------\n",
            "772.0859655964242\n",
            "1132.9417879417879\n",
            "----Typezed-------\n",
            "796.2670597498085\n",
            "1106.9741898629\n"
          ]
        }
      ]
    }
  ]
}