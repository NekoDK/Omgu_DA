{
  "nbformat": 4,
  "nbformat_minor": 0,
  "metadata": {
    "colab": {
      "provenance": [],
      "authorship_tag": "ABX9TyMxKBjH6Msq93/mkdvvwMrx",
      "include_colab_link": true
    },
    "kernelspec": {
      "name": "python3",
      "display_name": "Python 3"
    },
    "language_info": {
      "name": "python"
    }
  },
  "cells": [
    {
      "cell_type": "markdown",
      "metadata": {
        "id": "view-in-github",
        "colab_type": "text"
      },
      "source": [
        "<a href=\"https://colab.research.google.com/github/NekoDK/Omgu_DA/blob/OmguDA_3/OmguDA_3%2C1.ipynb\" target=\"_parent\"><img src=\"https://colab.research.google.com/assets/colab-badge.svg\" alt=\"Open In Colab\"/></a>"
      ]
    },
    {
      "cell_type": "code",
      "source": [
        "import pandas as pd\n",
        "import numpy as np\n"
      ],
      "metadata": {
        "id": "7SMOC9A-ekiy"
      },
      "execution_count": null,
      "outputs": []
    },
    {
      "cell_type": "code",
      "source": [
        "df = pd.read_excel('SrEd.xlsx')"
      ],
      "metadata": {
        "id": "RD_fa7-PemV1"
      },
      "execution_count": 16,
      "outputs": []
    },
    {
      "cell_type": "code",
      "source": [
        "dfM = df[df['Sex'] == 'м']\n",
        "dfW = df[df['Sex'] == 'ж']\n",
        "\n",
        "Yraw = dfM['Srok']\n",
        "Xraw = pd.DataFrame({'Age': dfM['Age'], 'Edu': dfM['Edu']})"
      ],
      "metadata": {
        "id": "d7GHysAterJF"
      },
      "execution_count": 17,
      "outputs": []
    },
    {
      "cell_type": "code",
      "source": [
        "X = Xraw.values\n",
        "Y = Yraw.values\n",
        "Yt = Y.transpose()"
      ],
      "metadata": {
        "id": "a0PomtZIeuxV"
      },
      "execution_count": 18,
      "outputs": []
    },
    {
      "cell_type": "code",
      "source": [
        "mxn = X.shape\n",
        "m = mxn[0]\n",
        "matrix = np.ones((1, m))\n",
        "X1 = np.insert(X,0,matrix,axis=1)"
      ],
      "metadata": {
        "id": "oD6Dda8P38n9"
      },
      "execution_count": 19,
      "outputs": []
    },
    {
      "cell_type": "code",
      "source": [
        "X = X1\n",
        "Xt = X.transpose()\n",
        "XtX = np.dot(Xt,X)\n",
        "Xi = np.linalg.inv(XtX)\n",
        "XtXi_Xt = np.dot(Xi,Xt)\n",
        "A = np.dot(XtXi_Xt,Y)\n",
        "Ynew = np.dot(X,A)"
      ],
      "metadata": {
        "id": "GviZRMrk4AxC"
      },
      "execution_count": 20,
      "outputs": []
    },
    {
      "cell_type": "code",
      "source": [
        "print(\"Исходные значения: \\n\", Y)\n",
        "print(\"Прогнозируемые значения: \\n\", np.around(Ynew, decimals=1))"
      ],
      "metadata": {
        "id": "kBYSMChSevy7",
        "colab": {
          "base_uri": "https://localhost:8080/"
        },
        "outputId": "58a6307e-31b0-42eb-840e-65b0fbb89f1a"
      },
      "execution_count": 21,
      "outputs": [
        {
          "output_type": "stream",
          "name": "stdout",
          "text": [
            "Исходные значения: \n",
            " [ 5  6  1  2  6  4  5  3  8  7 10  2  3  2  7  3  9  6  1  1  2  3  7  9\n",
            "  4  7  3  6 12  3  1  4  2  1  7  1]\n",
            "Прогнозируемые значения: \n",
            " [4.8 5.1 4.9 5.1 4.6 3.9 3.7 4.3 5.1 5.1 4.5 5.  4.9 4.8 4.3 4.8 4.6 5.1\n",
            " 4.3 4.4 4.3 4.7 5.1 4.5 5.1 5.1 4.9 5.1 4.3 3.8 3.4 3.8 4.1 4.3 3.3 3.6]\n"
          ]
        }
      ]
    },
    {
      "cell_type": "code",
      "source": [
        "matrixmin = Ynew - Y\n",
        "mse = np.mean(matrixmin**2)\n",
        "mseold = np.mean(Y)\n",
        "Y_sr= (Y-mseold)**2\n",
        "Y_sr = np.mean(Y_sr)\n",
        "answer=(1-(mse/Y_sr))"
      ],
      "metadata": {
        "id": "GygwJDS2exxz"
      },
      "execution_count": 22,
      "outputs": []
    },
    {
      "cell_type": "code",
      "source": [
        "print(\"Среднеквадратичная ошибка\",mse)\n",
        "print(\"Коэффициент детерминации\", answer)"
      ],
      "metadata": {
        "id": "SDNXqB0Ie8PF",
        "colab": {
          "base_uri": "https://localhost:8080/"
        },
        "outputId": "1b0646e3-fb9d-4221-f6ad-ad262b52cc0a"
      },
      "execution_count": 23,
      "outputs": [
        {
          "output_type": "stream",
          "name": "stdout",
          "text": [
            "Среднеквадратичная ошибка 8.022688689443617\n",
            "Коэффициент детерминации 0.033967802516126855\n"
          ]
        }
      ]
    }
  ]
}