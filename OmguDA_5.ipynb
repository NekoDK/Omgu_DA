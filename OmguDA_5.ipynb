{
  "nbformat": 4,
  "nbformat_minor": 0,
  "metadata": {
    "colab": {
      "provenance": [],
      "authorship_tag": "ABX9TyNtvX1jXHwwIjBOphVKqxb6",
      "include_colab_link": true
    },
    "kernelspec": {
      "name": "python3",
      "display_name": "Python 3"
    },
    "language_info": {
      "name": "python"
    }
  },
  "cells": [
    {
      "cell_type": "markdown",
      "metadata": {
        "id": "view-in-github",
        "colab_type": "text"
      },
      "source": [
        "<a href=\"https://colab.research.google.com/github/NekoDK/Omgu_DA/blob/OmguDA_5/OmguDA_5.ipynb\" target=\"_parent\"><img src=\"https://colab.research.google.com/assets/colab-badge.svg\" alt=\"Open In Colab\"/></a>"
      ]
    },
    {
      "cell_type": "code",
      "source": [
        "import pandas as pd\n",
        "from sklearn.linear_model import LinearRegression"
      ],
      "metadata": {
        "id": "QRrelSXqXwwh"
      },
      "execution_count": null,
      "outputs": []
    },
    {
      "cell_type": "code",
      "source": [
        "df = pd.read_excel(\"zad5.xlsx\")"
      ],
      "metadata": {
        "id": "NC5F4seBXyRJ"
      },
      "execution_count": null,
      "outputs": []
    },
    {
      "cell_type": "code",
      "source": [
        "# Вычисление скользящего среднего с окном 4 и минимальным количеством периодов 3 (задавалось преподавателем)\n",
        "df['av2'] = df['y'].rolling(window=4, min_periods=3).mean()\n",
        "df['av2'] = df['av2'].shift(-1)\n",
        "df.at[0, 'av2'] = None\n",
        "df['av3'] = df['av2'].rolling(window=2).mean()\n",
        "df['-y'] = df['y'] - df['av3']"
      ],
      "metadata": {
        "id": "MxfEP-PuX0Pp"
      },
      "execution_count": null,
      "outputs": []
    },
    {
      "cell_type": "code",
      "source": [
        "# Выделение сезонных компонент (задавалось преподавателем)\n",
        "sf1 = df['-y'].iloc[4::4]\n",
        "sf2 = df['-y'].iloc[5::4]\n",
        "sf3 = df['-y'].iloc[6::4]\n",
        "sf4 = df['-y'].iloc[3::4]\n",
        "\n",
        "s1 = sf1.mean()\n",
        "s2 = sf2.mean()\n",
        "s3 = sf3.mean()\n",
        "s4 = sf4.mean()\n",
        "\n",
        "serr = (s1 + s2 + s3 + s4) / 4\n",
        "s1 = s1 - serr\n",
        "s2 = s2 - serr\n",
        "s3 = s3 - serr\n",
        "s4 = s4 - serr\n",
        "s = [s1, s2, s3, s4]"
      ],
      "metadata": {
        "id": "QPiccWpPX2iP"
      },
      "execution_count": null,
      "outputs": []
    },
    {
      "cell_type": "code",
      "source": [
        "df['season'] = [s[i % 4] for i in range(len(df))]"
      ],
      "metadata": {
        "id": "JmmRzC0dX6Pg"
      },
      "execution_count": null,
      "outputs": []
    },
    {
      "cell_type": "code",
      "source": [
        "df['T+E = Y-S'] = df['y'] - df['season']"
      ],
      "metadata": {
        "id": "-swG-KCsYGrl"
      },
      "execution_count": null,
      "outputs": []
    },
    {
      "cell_type": "code",
      "source": [
        "def linearReg(X, y):\n",
        "    model = LinearRegression()\n",
        "    model.fit(X, y)\n",
        "    y_predict = model.predict(X)\n",
        "    return y_predict"
      ],
      "metadata": {
        "id": "GsocMQqOYKWE"
      },
      "execution_count": null,
      "outputs": []
    },
    {
      "cell_type": "code",
      "source": [
        "# Вычисление тренда с помощью линейной регрессии\n",
        "y = df['T+E = Y-S'].values\n",
        "df['Tcal'] = linearReg(df[['x']], y)\n",
        "\n",
        "df['Ycal'] = df['Tcal'] + df['season']\n",
        "\n",
        "df['Err^2'] = (df['Ycal'] - df['y'])**2\n",
        "\n",
        "Ymean = df['y'].mean()\n",
        "df['Y-Ymean'] = (df['y'] - Ymean)**2"
      ],
      "metadata": {
        "id": "j13Z8nLcYMpH"
      },
      "execution_count": null,
      "outputs": []
    },
    {
      "cell_type": "code",
      "source": [
        "# Вычисление коэффициента детерминации (R²)\n",
        "sumEr = df['Err^2'].sum()\n",
        "sumMarkModel = df['Y-Ymean'].sum()\n",
        "A = 1 - (sumEr / sumMarkModel)"
      ],
      "metadata": {
        "id": "rbvmw6hsYNg2"
      },
      "execution_count": null,
      "outputs": []
    },
    {
      "cell_type": "code",
      "source": [
        "print(df)"
      ],
      "metadata": {
        "colab": {
          "base_uri": "https://localhost:8080/"
        },
        "id": "YuNmTVFHYQul",
        "outputId": "48ddc24b-ad5c-4aac-ffa9-e799202c193a"
      },
      "execution_count": null,
      "outputs": [
        {
          "output_type": "stream",
          "name": "stdout",
          "text": [
            "     x      y         av2         av3         -y     season   T+E = Y-S  \\\n",
            "0    1  115.0         NaN         NaN        NaN -54.689063  169.689063   \n",
            "1    2  236.4  205.633333         NaN        NaN  36.460938  199.939063   \n",
            "2    3  265.5  174.275000  189.954167  75.545833  81.367188  184.132812   \n",
            "3    4   80.2  164.700000  169.487500 -89.287500 -63.139062  143.339063   \n",
            "4    5   76.7  144.375000  154.537500 -77.837500 -54.689063  131.389063   \n",
            "5    6  155.1  128.275000  136.325000  18.775000  36.460938  118.639062   \n",
            "6    7  201.1  121.600000  124.937500  76.162500  81.367188  119.732812   \n",
            "7    8   53.5  115.625000  118.612500 -65.112500 -63.139062  116.639062   \n",
            "8    9   52.8  109.300000  112.462500 -59.662500 -54.689063  107.489063   \n",
            "9   10  129.8   98.250000  103.775000  26.025000  36.460938   93.339063   \n",
            "10  11  156.9   98.650000   98.450000  58.450000  81.367188   75.532813   \n",
            "11  12   55.1         NaN         NaN        NaN -63.139062  118.239062   \n",
            "\n",
            "          Tcal        Ycal        Err^2       Y-Ymean  \n",
            "0   180.423117  125.734054   115.219926    272.525069  \n",
            "1   171.529520  207.990457   807.102107  11002.261736  \n",
            "2   162.635923  244.003110   462.116261  17953.766736  \n",
            "3   153.742326   90.603263   108.227889   2632.545069  \n",
            "4   144.848729   90.159666   181.162619   3003.953403  \n",
            "5   135.955132  172.416069   299.846258    556.566736  \n",
            "6   127.061535  208.428722    53.710171   4843.000069  \n",
            "7   118.167938   55.028875     2.337460   6085.300069  \n",
            "8   109.274341   54.585278     3.187218   6195.001736  \n",
            "9   100.380744  136.841681    49.585275      2.918403  \n",
            "10   91.487147  172.854334   254.540780    644.736736  \n",
            "11   82.593550   19.454487  1270.602584   5838.233403  \n"
          ]
        }
      ]
    },
    {
      "cell_type": "code",
      "source": [
        "print(\"Коэффициент детерминации (R²):\", A)"
      ],
      "metadata": {
        "colab": {
          "base_uri": "https://localhost:8080/"
        },
        "id": "p3cPtL7rHXRB",
        "outputId": "f29ed6c2-d15e-41bd-df1b-3016291daa4a"
      },
      "execution_count": null,
      "outputs": [
        {
          "output_type": "stream",
          "name": "stdout",
          "text": [
            "Коэффициент детерминации (R²): 0.9388854972680405\n"
          ]
        }
      ]
    }
  ]
}