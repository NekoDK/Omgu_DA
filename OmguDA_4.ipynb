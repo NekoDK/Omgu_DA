{
  "nbformat": 4,
  "nbformat_minor": 0,
  "metadata": {
    "colab": {
      "provenance": [],
      "authorship_tag": "ABX9TyN9rGpM+if12H+LahHenedP",
      "include_colab_link": true
    },
    "kernelspec": {
      "name": "python3",
      "display_name": "Python 3"
    },
    "language_info": {
      "name": "python"
    }
  },
  "cells": [
    {
      "cell_type": "markdown",
      "metadata": {
        "id": "view-in-github",
        "colab_type": "text"
      },
      "source": [
        "<a href=\"https://colab.research.google.com/github/NekoDK/Omgu_DA/blob/OmguDA_4/OmguDA_4.ipynb\" target=\"_parent\"><img src=\"https://colab.research.google.com/assets/colab-badge.svg\" alt=\"Open In Colab\"/></a>"
      ]
    },
    {
      "cell_type": "code",
      "source": [
        "import pandas as pd\n",
        "from sklearn.linear_model import LinearRegression\n",
        "from scipy.stats import f"
      ],
      "metadata": {
        "id": "Dq-wR82NZWDx"
      },
      "execution_count": 1,
      "outputs": []
    },
    {
      "cell_type": "code",
      "source": [
        "df = pd.read_excel(\"getero.xlsx\")\n",
        "df.drop('Страна', axis=1, inplace=True)"
      ],
      "metadata": {
        "id": "B-H1Cj2tZYmZ"
      },
      "execution_count": 2,
      "outputs": []
    },
    {
      "cell_type": "code",
      "source": [
        "df3 = df.copy()\n",
        "\n",
        "df3['EE/GDP'] = df3['EE'] / df3['GDP']\n",
        "df3['EE/P'] = df3['EE'] / df3['P']\n",
        "df3['GDP/P'] = df3['GDP'] / df3['P']\n",
        "\n",
        "df3.drop('EE', axis=1, inplace=True)\n",
        "df3.drop('GDP', axis=1, inplace=True)\n",
        "df3.drop('P', axis=1, inplace=True)"
      ],
      "metadata": {
        "id": "1TOlarpmZbry"
      },
      "execution_count": 3,
      "outputs": []
    },
    {
      "cell_type": "code",
      "source": [
        "df3 = df3.sort_values('EE/P', ascending=True)\n",
        "\n",
        "# Взятие первых и последних 11 элементов ( задавалось преподавателем )\n",
        "first_3 = df3.head(11)\n",
        "last_3 = df3.tail(11)"
      ],
      "metadata": {
        "id": "n4afhU3rZtwt"
      },
      "execution_count": 4,
      "outputs": []
    },
    {
      "cell_type": "code",
      "source": [
        "X_31 = first_3.drop('EE/GDP', axis=1)\n",
        "y_31 = first_3['EE/GDP'].values\n",
        "\n",
        "X_32 = last_3.drop('EE/GDP', axis=1)\n",
        "y_32 = last_3['EE/GDP'].values"
      ],
      "metadata": {
        "id": "yByIYO7XZ1SO"
      },
      "execution_count": 5,
      "outputs": []
    },
    {
      "cell_type": "code",
      "source": [
        "df2 = df.copy()\n",
        "\n",
        "df2.drop('GDP', axis=1, inplace=True)\n",
        "df2 = df2.sort_values(by='P', ascending=True)\n",
        "\n",
        "first_2 = df2.head(11)\n",
        "last_2 = df2.tail(11)"
      ],
      "metadata": {
        "id": "cP_a2-66aF2j"
      },
      "execution_count": 6,
      "outputs": []
    },
    {
      "cell_type": "code",
      "source": [
        "first = df.head(11)\n",
        "last = df.tail(11)\n",
        "\n",
        "first_1 = first.copy()\n",
        "last_1 = last.copy()\n",
        "\n",
        "first_1.drop('P', axis=1, inplace=True)\n",
        "last_1.drop('P', axis=1, inplace=True)"
      ],
      "metadata": {
        "id": "ZaCXLLJFaIrL"
      },
      "execution_count": 7,
      "outputs": []
    },
    {
      "cell_type": "code",
      "source": [
        "X_11 = first_1.drop('EE', axis=1)\n",
        "y_11 = first_1['EE'].values\n",
        "\n",
        "X_21 = last_1.drop('EE', axis=1)\n",
        "y_21 = last_1['EE'].values\n",
        "\n",
        "X_12 = first_2.drop('EE', axis=1)\n",
        "y_12 = first_2['EE'].values\n",
        "\n",
        "X_22 = last_2.drop('EE', axis=1)\n",
        "y_22 = last_2['EE'].values"
      ],
      "metadata": {
        "id": "RXOAzdEoaXgi"
      },
      "execution_count": 8,
      "outputs": []
    },
    {
      "cell_type": "code",
      "source": [
        "def linearReg(X, y):\n",
        "    model = LinearRegression()\n",
        "    model.fit(X, y)\n",
        "    y_predict = model.predict(X)\n",
        "    return y_predict"
      ],
      "metadata": {
        "id": "AzoHOomvabSx"
      },
      "execution_count": 9,
      "outputs": []
    },
    {
      "cell_type": "code",
      "source": [
        "y_predict_first_1 = linearReg(X_11, y_11)\n",
        "y_predict_last_1 = linearReg(X_21, y_21)\n",
        "\n",
        "y_predict_first_2 = linearReg(X_12, y_12)\n",
        "y_predict_last_2 = linearReg(X_22, y_22)\n",
        "\n",
        "y_predict_first_3 = linearReg(X_31, y_31)\n",
        "y_predict_last_3 = linearReg(X_32, y_32)"
      ],
      "metadata": {
        "id": "E-2w3DnOab1T"
      },
      "execution_count": 10,
      "outputs": []
    },
    {
      "cell_type": "code",
      "source": [
        "def s_all(y_pred, mean):\n",
        "    result = [(num - mean) ** 2 for num in y_pred]\n",
        "    total = sum(result)\n",
        "    return total"
      ],
      "metadata": {
        "id": "UXJPXHSzaeIT"
      },
      "execution_count": 11,
      "outputs": []
    },
    {
      "cell_type": "code",
      "source": [
        "def fisher(s_fact, s_ost, n):\n",
        "    return (s_fact / 1) / (s_ost / (n - 2))"
      ],
      "metadata": {
        "id": "gbi6hgLOafqb"
      },
      "execution_count": 12,
      "outputs": []
    },
    {
      "cell_type": "code",
      "source": [
        "fisher_first_1 = fisher(s_all(y_11, y_11.mean()), s_all(y_predict_first_1, y_11.mean()), 11)\n",
        "fisher_last_1 = fisher(s_all(y_21, y_21.mean()), s_all(y_predict_last_1, y_21.mean()), 11)\n",
        "\n",
        "fisher_first_2 = fisher(s_all(y_12, y_12.mean()), s_all(y_predict_first_2, y_12.mean()), 11)\n",
        "fisher_last_2 = fisher(s_all(y_22, y_22.mean()), s_all(y_predict_last_2, y_22.mean()), 11)\n",
        "\n",
        "fisher_first_3 = fisher(s_all(y_31, y_31.mean()), s_all(y_predict_first_3, y_31.mean()), 11)\n",
        "fisher_last_3 = fisher(s_all(y_32, y_32.mean()), s_all(y_predict_last_3, y_32.mean()), 11)"
      ],
      "metadata": {
        "id": "s6-MQZ5Fagrx"
      },
      "execution_count": 13,
      "outputs": []
    },
    {
      "cell_type": "code",
      "source": [
        "# Вычисление критического значения F-распределения\n",
        "critical_value = f.ppf(0.95, 1, 9)  # df1 = 1, df2 = n - 2 = 11 - 2 = 9\n",
        "print(\"Критическое значение F-статистики:\", critical_value)"
      ],
      "metadata": {
        "colab": {
          "base_uri": "https://localhost:8080/"
        },
        "id": "wfrl-iPLamS-",
        "outputId": "5d3e8aed-7841-40ef-89c0-e81dfa91492a"
      },
      "execution_count": 14,
      "outputs": [
        {
          "output_type": "stream",
          "name": "stdout",
          "text": [
            "Критическое значение F-статистики: 5.117355029199227\n"
          ]
        }
      ]
    },
    {
      "cell_type": "code",
      "source": [
        "# Сравнение F-статистики с критическим значением\n",
        "def check_significance(f_value, critical_value):\n",
        "    return \"Значима\" if f_value > critical_value else \"Незначима\""
      ],
      "metadata": {
        "id": "WQlA0AvIat5i"
      },
      "execution_count": 15,
      "outputs": []
    },
    {
      "cell_type": "code",
      "source": [
        "print(\"fisher_first_1:\", fisher_first_1, check_significance(fisher_first_1, critical_value))\n",
        "print(\"fisher_last_1:\", fisher_last_1, check_significance(fisher_last_1, critical_value))\n",
        "print(\"fisher_first_2:\", fisher_first_2, check_significance(fisher_first_2, critical_value))\n",
        "print(\"fisher_last_2:\", fisher_last_2, check_significance(fisher_last_2, critical_value))\n",
        "print(\"fisher_first_3:\", fisher_first_3, check_significance(fisher_first_3, critical_value))\n",
        "print(\"fisher_last_3:\", fisher_last_3, check_significance(fisher_last_3, critical_value))"
      ],
      "metadata": {
        "colab": {
          "base_uri": "https://localhost:8080/"
        },
        "id": "j4kH3RMwtycI",
        "outputId": "fa513769-2da8-4617-cf73-2cbaf5bdb1ca"
      },
      "execution_count": 16,
      "outputs": [
        {
          "output_type": "stream",
          "name": "stdout",
          "text": [
            "fisher_first_1: 46.13041598868416 Значима\n",
            "fisher_last_1: 9.069453042829217 Значима\n",
            "fisher_first_2: 10.338362259611486 Значима\n",
            "fisher_last_2: 11.051676874018721 Значима\n",
            "fisher_first_3: 9.359928265102475 Значима\n",
            "fisher_last_3: 9.061039979527024 Значима\n"
          ]
        }
      ]
    }
  ]
}